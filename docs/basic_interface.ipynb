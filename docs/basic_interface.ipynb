{
 "cells": [
  {
   "cell_type": "markdown",
   "metadata": {},
   "source": [
    "# Basic Interface"
   ]
  },
  {
   "cell_type": "markdown",
   "metadata": {},
   "source": [
    "## Creating tables and adding rows"
   ]
  },
  {
   "cell_type": "code",
   "execution_count": 1,
   "metadata": {},
   "outputs": [
    {
     "name": "stdout",
     "output_type": "stream",
     "text": [
      "-----------------------------\n",
      "-----------------------------\n",
      "  foo    bar        zeta      \n",
      "-----------------------------\n",
      "   1      2     string_value  \n",
      "-----------------------------\n"
     ]
    }
   ],
   "source": [
    "from tabletexifier import Table\n",
    "\n",
    "tab = Table(header = [\"foo\", \"bar\", \"zeta\"])\n",
    "tab.add_row([1,2, \"string_value\"])\n",
    "print(tab)"
   ]
  },
  {
   "cell_type": "code",
   "execution_count": 2,
   "metadata": {},
   "outputs": [
    {
     "name": "stdout",
     "output_type": "stream",
     "text": [
      "\n",
      "\\begin{table}[H]\n",
      "\\caption{}\n",
      "\\label{}\n",
      "\\centering\n",
      "\\begin{tabular}{ccc}\\hline \\hline\n",
      " foo  & bar  &     zeta     \\\\ \\hline\n",
      "  1   &  2   & string_value \\\\ \\hline\n",
      "\\end{tabular}\n",
      "\\end{table}\n"
     ]
    }
   ],
   "source": [
    "print(tab.build_latex())"
   ]
  },
  {
   "cell_type": "markdown",
   "metadata": {},
   "source": [
    "We can control the number of decimal places through:    "
   ]
  },
  {
   "cell_type": "code",
   "execution_count": 3,
   "metadata": {},
   "outputs": [
    {
     "name": "stdout",
     "output_type": "stream",
     "text": [
      "-----------------------------\n",
      "-----------------------------\n",
      "  foo    bar        zeta      \n",
      "-----------------------------\n",
      "  1.00   2.00   string_value  \n",
      "-----------------------------\n",
      "\n",
      "\\begin{table}[H]\n",
      "\\caption{}\n",
      "\\label{}\n",
      "\\centering\n",
      "\\begin{tabular}{ccc}\\hline \\hline\n",
      " foo  & bar  &     zeta     \\\\ \\hline\n",
      "  1   &  2   & string_value \\\\ \\hline\n",
      "\\end{tabular}\n",
      "\\end{table}\n"
     ]
    }
   ],
   "source": [
    "tab.set_decimal_places(2)\n",
    "print(tab)\n",
    "print(tab.build_latex())"
   ]
  },
  {
   "cell_type": "markdown",
   "metadata": {},
   "source": [
    "The columns also allow the data to be tuples or lists. However, the decimal places do not apply to them:"
   ]
  },
  {
   "cell_type": "code",
   "execution_count": 4,
   "metadata": {},
   "outputs": [
    {
     "name": "stdout",
     "output_type": "stream",
     "text": [
      "-------------------------------------\n",
      "-------------------------------------\n",
      "   foo        bar           zeta      \n",
      "-------------------------------------\n",
      "   1.00       2.00      string_value  \n",
      "  third    [1, 1, 1]         []       \n",
      "-------------------------------------\n"
     ]
    }
   ],
   "source": [
    "tab.add_row(['third',[1,1,1], []])\n",
    "tab.set_decimal_places(2)\n",
    "print(tab)"
   ]
  },
  {
   "cell_type": "markdown",
   "metadata": {},
   "source": [
    "## Configure the horizontal and vertical lines"
   ]
  },
  {
   "cell_type": "markdown",
   "metadata": {},
   "source": [
    "We can configure the pattern of lines on the two versions (text and LaTeX):"
   ]
  },
  {
   "cell_type": "code",
   "execution_count": 5,
   "metadata": {},
   "outputs": [
    {
     "name": "stdout",
     "output_type": "stream",
     "text": [
      "Starting with : T\n",
      "\n",
      "\n",
      "   foo   |    bar           zeta      \n",
      "---------+---------------------------\n",
      "   1.00  |    2.00      string_value  \n",
      "  third  | [1, 1, 1]         []       \n",
      "\n",
      "\n",
      "\n",
      "Starting with : A\n",
      "\n",
      "\n",
      "+--------+------------+--------------+\n",
      "|  foo   |    bar     |     zeta     |\n",
      "+--------+------------+--------------+\n",
      "|  1.00  |    2.00    | string_value |\n",
      "+--------+------------+--------------+\n",
      "| third  | [1, 1, 1]  |      []      |\n",
      "+--------+------------+--------------+\n",
      "\n",
      "\n",
      "\n",
      "Starting with : MNRAS\n",
      "\n",
      "\n",
      "-------------------------------------\n",
      "   foo        bar           zeta      \n",
      "-------------------------------------\n",
      "   1.00       2.00      string_value  \n",
      "  third    [1, 1, 1]         []       \n",
      "\n",
      "\n",
      "\n",
      "Starting with : NoLines\n",
      "\n",
      "\n",
      "   foo        bar           zeta      \n",
      "   1.00       2.00      string_value  \n",
      "  third    [1, 1, 1]         []       \n",
      "\n",
      "\n",
      "\n",
      "Starting with : A&A\n",
      "\n",
      "\n",
      "-------------------------------------\n",
      "-------------------------------------\n",
      "   foo        bar           zeta      \n",
      "-------------------------------------\n",
      "   1.00       2.00      string_value  \n",
      "  third    [1, 1, 1]         []       \n",
      "-------------------------------------\n",
      "\n",
      "\n",
      "\n"
     ]
    }
   ],
   "source": [
    "for style in tab.style_map:\n",
    "    print(f\"Starting with : {style}\\n\\n\")\n",
    "    tab.update_table_style(style)\n",
    "    print(tab)\n",
    "    print(\"\\n\\n\")"
   ]
  },
  {
   "cell_type": "markdown",
   "metadata": {},
   "source": [
    "We can also manually add vertical and horizontal lines:"
   ]
  },
  {
   "cell_type": "code",
   "execution_count": 6,
   "metadata": {},
   "outputs": [
    {
     "name": "stdout",
     "output_type": "stream",
     "text": [
      "  1  | 2    3    4   \n",
      "-----+--------------\n",
      "  5  | 6    7    8   \n",
      "  9  | 10   11   12  \n",
      "\n",
      "\\begin{table}[H]\n",
      "\\caption{}\n",
      "\\label{}\n",
      "\\centering\n",
      "\\begin{tabular}{c|ccc}\n",
      " 1  & 2  & 3  & 4  \\\\ \\hline\n",
      " 5  & 6  & 7  & 8  \\\\\n",
      " 9  & 10 & 11 & 12 \\\\\n",
      "\\end{tabular}\n",
      "\\end{table}\n"
     ]
    }
   ],
   "source": [
    "t = Table(header=[1, 2, 3, 4], table_style=\"NoLines\")\n",
    "t.add_row(list(range(5, 9)))\n",
    "t.add_row(list(range(9, 13)))\n",
    "\n",
    "t.add_vline(loc=1)\n",
    "t.add_hline(loc=1)\n",
    "print(t)\n",
    "print(t.build_latex())"
   ]
  },
  {
   "cell_type": "markdown",
   "metadata": {},
   "source": [
    "## Storing the tables to a file"
   ]
  },
  {
   "cell_type": "markdown",
   "metadata": {},
   "source": [
    "The tables can also be stored to disk:"
   ]
  },
  {
   "cell_type": "code",
   "execution_count": 7,
   "metadata": {},
   "outputs": [],
   "source": [
    "tab.write_to_file(\"temp.txt\", write_LaTeX=True, write_table=True)"
   ]
  }
 ],
 "metadata": {
  "kernelspec": {
   "display_name": "aegir-JSxcqN-I-py3.8",
   "language": "python",
   "name": "python3"
  },
  "language_info": {
   "codemirror_mode": {
    "name": "ipython",
    "version": 3
   },
   "file_extension": ".py",
   "mimetype": "text/x-python",
   "name": "python",
   "nbconvert_exporter": "python",
   "pygments_lexer": "ipython3",
   "version": "3.8.12"
  }
 },
 "nbformat": 4,
 "nbformat_minor": 2
}
